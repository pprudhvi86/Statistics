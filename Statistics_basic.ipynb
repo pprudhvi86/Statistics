{
  "nbformat": 4,
  "nbformat_minor": 0,
  "metadata": {
    "colab": {
      "provenance": []
    },
    "kernelspec": {
      "name": "python3",
      "display_name": "Python 3"
    },
    "language_info": {
      "name": "python"
    }
  },
  "cells": [
    {
      "cell_type": "markdown",
      "source": [
        "Question 1: What is the difference between descriptive statistics and inferential statistics? Explain with examples.\n",
        "Answer:\n",
        "Descriptive statistics deal with summarizing and organizing data using numbers, charts, or tables. It helps describe the basic features of the dataset.\n",
        "Example: Calculating the average age of 100 employees in a company.\n",
        "\n",
        "Inferential statistics involve making predictions or generalizations about a population based on a sample of data.\n",
        "Example: Using a sample of 200 voters to predict the outcome of a state election.\n",
        "\n",
        "Question 2: What is sampling in statistics? Explain the differences between random and stratified sampling.\n",
        "Answer:\n",
        "Sampling is the process of selecting a subset of individuals from a population to estimate characteristics of the whole population.\n",
        "\n",
        "Random Sampling: Each member of the population has an equal chance of being selected.\n",
        "➤ Example: Drawing names from a hat.\n",
        "\n",
        "Stratified Sampling: The population is divided into subgroups (strata) based on a specific characteristic (like gender, age), and samples are taken from each subgroup.\n",
        "➤ Ensures representation from each subgroup.\n",
        "\n",
        "Question 3: Define mean, median, and mode. Explain why these measures of central tendency are important.\n",
        "Answer:\n",
        "\n",
        "Mean: The average of all values.\n",
        "\n",
        "Median: The middle value when data is sorted.\n",
        "\n",
        "Mode: The most frequent value in the dataset.\n",
        "\n",
        "These are important because they provide a summary measure that describes the center point or typical value of a dataset, helping in understanding and comparing data.\n",
        "\n",
        "Question 4: Explain skewness and kurtosis. What does a positive skew imply about the data?\n",
        "Answer:\n",
        "\n",
        "Skewness measures the asymmetry of the data distribution.\n",
        "➤ Positive skew: Tail is longer on the right; most values are concentrated on the left.\n",
        "\n",
        "Kurtosis measures the \"tailedness\" of the distribution.\n",
        "➤ High kurtosis = heavy tails; low kurtosis = light tails.\n",
        "\n",
        "Positive skew implies that there are some unusually large values pulling the mean to the right."
      ],
      "metadata": {
        "id": "hDOC125kNxdt"
      }
    },
    {
      "cell_type": "code",
      "execution_count": null,
      "metadata": {
        "colab": {
          "base_uri": "https://localhost:8080/"
        },
        "id": "A4Wbm1FuNtMC",
        "outputId": "7141f5e7-fd78-4a2f-d3ba-341d99795f01"
      },
      "outputs": [
        {
          "output_type": "stream",
          "name": "stdout",
          "text": [
            "Mean: 19.6\n",
            "Median: 19\n",
            "Mode: 12\n"
          ]
        }
      ],
      "source": [
        "# Question 5: Implement a Python program to compute the mean, median, and mode of a given list of numbers. numbers = [12, 15, 12, 18, 19, 12, 20, 22, 19, 19, 24, 24, 24, 26, 28]\n",
        "\n",
        "import statistics\n",
        "\n",
        "numbers = [12, 15, 12, 18, 19, 12, 20, 22, 19, 19, 24, 24, 24, 26, 28]\n",
        "\n",
        "mean = statistics.mean(numbers)\n",
        "median = statistics.median(numbers)\n",
        "mode = statistics.mode(numbers)\n",
        "\n",
        "print(\"Mean:\", mean)\n",
        "print(\"Median:\", median)\n",
        "print(\"Mode:\", mode)"
      ]
    },
    {
      "cell_type": "code",
      "source": [
        "# Question 6: Compute the covariance and correlation coefficient between the following two datasets:\n",
        "# list_x = [10, 20, 30, 40, 50]\n",
        "# list_y = [15, 25, 35, 45, 60]\n",
        "\n",
        "import numpy as np\n",
        "\n",
        "list_x = [10, 20, 30, 40, 50]\n",
        "list_y = [15, 25, 35, 45, 60]\n",
        "\n",
        "# Covariance\n",
        "covariance = np.cov(list_x, list_y, bias=True)[0][1]\n",
        "\n",
        "# Correlation coefficient\n",
        "correlation = np.corrcoef(list_x, list_y)[0][1]\n",
        "\n",
        "print(\"Covariance:\", covariance)\n",
        "print(\"Correlation Coefficient:\", correlation)"
      ],
      "metadata": {
        "colab": {
          "base_uri": "https://localhost:8080/"
        },
        "id": "5n2nhtmeN5Ax",
        "outputId": "d2f0ea7b-294b-43b3-fd44-a2c9ea7dab12"
      },
      "execution_count": null,
      "outputs": [
        {
          "output_type": "stream",
          "name": "stdout",
          "text": [
            "Covariance: 220.0\n",
            "Correlation Coefficient: 0.995893206467704\n"
          ]
        }
      ]
    },
    {
      "cell_type": "code",
      "source": [
        "# Question 7: Write a Python script to draw a boxplot for the following numeric list and identify its outliers. Explain the result.\n",
        "# data = [12, 14, 14, 15, 18, 19, 19, 21, 22, 22, 23, 23, 24, 26, 29, 35]\n",
        "\n",
        "import matplotlib.pyplot as plt\n",
        "import seaborn as sns\n",
        "\n",
        "data = [12, 14, 14, 15, 18, 19, 19, 21, 22, 22, 23, 23, 24, 26, 29, 35]\n",
        "\n",
        "plt.figure(figsize=(6, 4))\n",
        "sns.boxplot(data)\n",
        "plt.title(\"Boxplot of Data\")\n",
        "plt.show()\n"
      ],
      "metadata": {
        "colab": {
          "base_uri": "https://localhost:8080/",
          "height": 372
        },
        "id": "lou-QmzbOA2P",
        "outputId": "5113bf8a-1258-4bac-e8c0-bdc5d983865c"
      },
      "execution_count": null,
      "outputs": [
        {
          "output_type": "display_data",
          "data": {
            "text/plain": [
              "<Figure size 600x400 with 1 Axes>"
            ],
            "image/png": "[encoded data removed]"
          },
          "metadata": {}
        }
      ]
    },
    {
      "cell_type": "code",
      "source": [
        "# Question 8: You are working as a data analyst in an e-commerce company. The marketing team wants to know if there is a relationship between advertising spend and daily sales. Compute the correlation between the two lists:\n",
        "# advertising_spend = [200, 250, 300, 400, 500]\n",
        "# daily_sales = [2200, 2450, 2750, 3200, 4000]\n",
        "\n",
        "advertising_spend = [200, 250, 300, 400, 500]\n",
        "daily_sales = [2200, 2450, 2750, 3200, 4000]\n",
        "\n",
        "# Covariance\n",
        "cov = np.cov(advertising_spend, daily_sales, bias=True)[0][1]\n",
        "\n",
        "# Correlation\n",
        "corr = np.corrcoef(advertising_spend, daily_sales)[0][1]\n",
        "\n",
        "print(\"Covariance:\", cov)\n",
        "print(\"Correlation Coefficient:\", corr)"
      ],
      "metadata": {
        "colab": {
          "base_uri": "https://localhost:8080/"
        },
        "id": "o8PC7PklOGBE",
        "outputId": "11c83744-d480-4ece-b1b5-26962d037a70"
      },
      "execution_count": null,
      "outputs": [
        {
          "output_type": "stream",
          "name": "stdout",
          "text": [
            "Covariance: 67900.0\n",
            "Correlation Coefficient: 0.9935824101653329\n"
          ]
        }
      ]
    },
    {
      "cell_type": "code",
      "source": [
        "# Question 9: Your team has collected customer satisfaction survey data on a scale of 1-10. You want to understand its distribution using summary statistics and visualization.\n",
        "# survey_scores = [7, 8, 5, 9, 6, 7, 8, 9, 10, 4, 7, 6, 9, 8, 7]\n",
        "\n",
        "survey_scores = [7, 8, 5, 9, 6, 7, 8, 9, 10, 4, 7, 6, 9, 8, 7]\n",
        "\n",
        "mean = np.mean(survey_scores)\n",
        "std_dev = np.std(survey_scores)\n",
        "\n",
        "print(\"Mean:\", mean)\n",
        "print(\"Standard Deviation:\", std_dev)\n",
        "\n",
        "# Histogram\n",
        "plt.hist(survey_scores, bins=6, edgecolor='black')\n",
        "plt.title(\"Histogram of Survey Scores\")\n",
        "plt.xlabel(\"Score\")\n",
        "plt.ylabel(\"Frequency\")\n",
        "plt.show()"
      ],
      "metadata": {
        "colab": {
          "base_uri": "https://localhost:8080/",
          "height": 507
        },
        "id": "2rBx5PiiONap",
        "outputId": "1a1a2a95-a67e-4e45-caa1-9cb61b1be810"
      },
      "execution_count": null,
      "outputs": [
        {
          "output_type": "stream",
          "name": "stdout",
          "text": [
            "Mean: 7.333333333333333\n",
            "Standard Deviation: 1.577621275493231\n"
          ]
        },
        {
          "output_type": "display_data",
          "data": {
            "text/plain": [
              "<Figure size 640x480 with 1 Axes>"
            ],
            "image/png": "[encoded data removed]"
          },
          "metadata": {}
        }
      ]
    }
  ]
}